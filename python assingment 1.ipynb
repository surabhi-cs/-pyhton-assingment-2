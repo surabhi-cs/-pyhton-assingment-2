{
 "cells": [
  {
   "cell_type": "code",
   "execution_count": 1,
   "metadata": {},
   "outputs": [
    {
     "name": "stdout",
     "output_type": "stream",
     "text": [
      "Enter any Number: 10\n",
      "The List of Natural Numbers from 1 to 10 are : \n",
      "1  2  3  4  5  6  7  8  9  10  \n",
      "The List of Natural Numbers from 10 to 1 in Reverse Order : \n",
      "11  10  9  8  7  6  5  4  3  2  1  "
     ]
    }
   ],
   "source": [
    "#QUESTION 1\n",
    "number = int(input(\"Enter any Number: \"))\n",
    "i = 1\n",
    "\n",
    "print(\"The List of Natural Numbers from 1 to {0} are : \".format(number)) \n",
    "\n",
    "while ( i <= number):\n",
    "    print (i, end = '  ')\n",
    "    i = i + 1\n",
    "\n",
    "print(\"\\nThe List of Natural Numbers from {0} to 1 in Reverse Order : \".format(number)) \n",
    "while ( i >= 1):\n",
    "    print (i, end = '  ')\n",
    "    i = i - 1"
   ]
  },
  {
   "cell_type": "code",
   "execution_count": 2,
   "metadata": {},
   "outputs": [
    {
     "name": "stdout",
     "output_type": "stream",
     "text": [
      "between 1 and 100 \n",
      "even numbers are : \n",
      "2 4 6 8 10 12 14 16 18 20 22 24 26 28 30 32 34 36 38 40 42 44 46 48 50 52 54 56 58 60 62 64 66 68 70 72 74 76 78 80 82 84 86 88 90 92 94 96 98 100 \n",
      "odd numbers are : \n",
      "1 3 5 7 9 11 13 15 17 19 21 23 25 27 29 31 33 35 37 39 41 43 45 47 49 51 53 55 57 59 61 63 65 67 69 71 73 75 77 79 81 83 85 87 89 91 93 95 97 99 "
     ]
    }
   ],
   "source": [
    "#QUESTION 2\n",
    "print(\"between 1 and 100 \")\n",
    "print(\"even numbers are : \")\n",
    "for i in range(1,101):\n",
    "  if i%2==0:\n",
    "    print(i,end=\" \")\n",
    "   \n",
    "print(\"\\nodd numbers are : \")\n",
    "for i in range(1,101):\n",
    "  if i%2==1:\n",
    "   print(i,end=\" \")"
   ]
  },
  {
   "cell_type": "code",
   "execution_count": 4,
   "metadata": {},
   "outputs": [
    {
     "name": "stdout",
     "output_type": "stream",
     "text": [
      "enter a number to check whether its prime or not :5\n",
      "5 true\n"
     ]
    }
   ],
   "source": [
    "#QUESTION 3\n",
    "num=int(input(\"enter a number to check whether its prime or not :\"))\n",
    "if num > 1:\n",
    " \n",
    "    for i in range(2, int(num/2)+1):\n",
    "        if (num % i) == 0:\n",
    "            print(num, \"false\")\n",
    "            break\n",
    "    else:\n",
    "        print(num, \"true\")\n",
    " \n",
    "else:\n",
    "    print(num, \"false\")"
   ]
  },
  {
   "cell_type": "code",
   "execution_count": 5,
   "metadata": {},
   "outputs": [
    {
     "name": "stdout",
     "output_type": "stream",
     "text": [
      "enter a number :20\n",
      "3 5 6 9 10 12 15 18 20 \n",
      "the sum is 98\n"
     ]
    }
   ],
   "source": [
    "#QUESTION 4\n",
    "n=int(input(\"enter a number :\"))\n",
    "sum=0\n",
    "for i in range (1,n+1):\n",
    "  if(i%3==0 or i%5==0):\n",
    "    print(i,end=\" \")\n",
    "    sum+=i\n",
    "print()\n",
    "print(\"the sum is\",sum)"
   ]
  },
  {
   "cell_type": "code",
   "execution_count": 6,
   "metadata": {},
   "outputs": [
    {
     "name": "stdout",
     "output_type": "stream",
     "text": [
      "Enter a number: 10\n",
      "Enter 0 for sum and 1 for product 1\n",
      "Product =  3628800\n"
     ]
    }
   ],
   "source": [
    "#QUESTION 5 \n",
    "n=int(input(\"Enter a number: \"))\n",
    "c=int(input(\"Enter 0 for sum and 1 for product \"))\n",
    "def calc_sum():\n",
    "    s=0\n",
    "    for i in range(1,n+1):\n",
    "        s+=i\n",
    "    print(\"Sum = \",s)\n",
    "def calc_pro():\n",
    "    p=1\n",
    "    for i in range(1,n+1):\n",
    "        p=p*(i)\n",
    "    print(\"Product = \",p)\n",
    "if(c==0):\n",
    "    calc_sum()\n",
    "elif(c==1):\n",
    "    calc_pro()\n",
    "else:\n",
    "    print(\"nothing\")"
   ]
  },
  {
   "cell_type": "code",
   "execution_count": 7,
   "metadata": {},
   "outputs": [
    {
     "name": "stdout",
     "output_type": "stream",
     "text": [
      "The sum of all the multiples of 3 or 5 below 1000 is  233168\n"
     ]
    }
   ],
   "source": [
    "#QUESTION 6\n",
    "sum=0\n",
    "for i in range(1000):\n",
    "    if(i%3==0 or i%5==0):\n",
    "        sum+=i\n",
    "print(\"The sum of all the multiples of 3 or 5 below 1000 is \",sum)"
   ]
  },
  {
   "cell_type": "code",
   "execution_count": 8,
   "metadata": {},
   "outputs": [
    {
     "name": "stdout",
     "output_type": "stream",
     "text": [
      "2002 2009 2016 2023 2037 2044 2051 2058 2072 2079 2086 2093 2107 2114 2121 2128 2142 2149 2156 2163 2177 2184 2191 2198 2212 2219 2226 2233 2247 2254 2261 2268 2282 2289 2296 2303 2317 2324 2331 2338 2352 2359 2366 2373 2387 2394 2401 2408 2422 2429 2436 2443 2457 2464 2471 2478 2492 2499 2506 2513 2527 2534 2541 2548 2562 2569 2576 2583 2597 2604 2611 2618 2632 2639 2646 2653 2667 2674 2681 2688 2702 2709 2716 2723 2737 2744 2751 2758 2772 2779 2786 2793 2807 2814 2821 2828 2842 2849 2856 2863 2877 2884 2891 2898 2912 2919 2926 2933 2947 2954 2961 2968 2982 2989 2996 3003 3017 3024 3031 3038 3052 3059 3066 3073 3087 3094 3101 3108 3122 3129 3136 3143 3157 3164 3171 3178 3192 3199 "
     ]
    }
   ],
   "source": [
    "# QUESTION 7\n",
    "\n",
    "for i in range(2000,3201):\n",
    "    if(i%7==0 and i%5!=0):\n",
    "        print(i,end=\" \")"
   ]
  },
  {
   "cell_type": "code",
   "execution_count": 9,
   "metadata": {},
   "outputs": [
    {
     "name": "stdout",
     "output_type": "stream",
     "text": [
      "The difference between the sum of the squares of the first 100 natural numbers and the square of the sum is : 25164150\n"
     ]
    }
   ],
   "source": [
    "#QUESTION 8\n",
    "\n",
    "s=0\n",
    "sos=0\n",
    "for i in range(1,101):\n",
    "    s+=i\n",
    "    sos+=(i**2)\n",
    "d=sos-(s**2)\n",
    "print(\"The difference between the sum of the squares of the first 100 natural numbers and the square of the sum is :\",abs(d))"
   ]
  },
  {
   "cell_type": "code",
   "execution_count": 32,
   "metadata": {},
   "outputs": [
    {
     "name": "stdout",
     "output_type": "stream",
     "text": [
      "enter the number:5\n",
      "The factorial of 5 is 120\n"
     ]
    }
   ],
   "source": [
    "\n",
    "#QUESTION 9. \n",
    "num=int(input(\"enter the number:\"))\n",
    "factorial=1\n",
    "for i in range(1,num + 1):\n",
    "       factorial = factorial*i\n",
    "print(\"The factorial of\",num,\"is\",factorial)"
   ]
  },
  {
   "cell_type": "code",
   "execution_count": 12,
   "metadata": {},
   "outputs": [
    {
     "name": "stdout",
     "output_type": "stream",
     "text": [
      "enter the number:5\n",
      "\n",
      "1\n",
      "22\n",
      "333\n",
      "4444\n",
      "55555\n"
     ]
    }
   ],
   "source": [
    "#10.1.\n",
    "n=int(input(\"enter the number:\"))\n",
    "for i in range (n+1):\n",
    "    for j in range (i):\n",
    "        print(i,end='')\n",
    "    print('')"
   ]
  },
  {
   "cell_type": "code",
   "execution_count": 13,
   "metadata": {},
   "outputs": [
    {
     "name": "stdout",
     "output_type": "stream",
     "text": [
      "enter the number:5\n",
      "55555\n",
      "54445\n",
      "54345\n",
      "54445\n",
      "55555\n"
     ]
    }
   ],
   "source": [
    "#10.2. Pattern:\n",
    "n=int(input(\"enter the number:\"))\n",
    "for i in range(n):\n",
    "    for j in range(n):\n",
    "        print(max(i+1,j+1,n-i,n-j),end='')\n",
    "    print()"
   ]
  },
  {
   "cell_type": "code",
   "execution_count": 14,
   "metadata": {},
   "outputs": [
    {
     "name": "stdout",
     "output_type": "stream",
     "text": [
      "enter the number:5\n",
      "*\n",
      "**\n",
      "***\n",
      "****\n",
      "*****\n"
     ]
    }
   ],
   "source": [
    "#10.3.\n",
    "n=int(input(\"enter the number:\"))\n",
    "for i in range(0,n):\n",
    "    for j in range(0,i+1):\n",
    "        print('*', end='')\n",
    "    print('\\r')"
   ]
  },
  {
   "cell_type": "code",
   "execution_count": 15,
   "metadata": {},
   "outputs": [
    {
     "name": "stdout",
     "output_type": "stream",
     "text": [
      "Enter the number:4\n",
      "****\n",
      "***\n",
      "**\n",
      "*\n",
      "\n"
     ]
    }
   ],
   "source": [
    "#10.4.\n",
    "n=int(input(\"Enter the number:\"))\n",
    "for i in range (n+1,0,-1):\n",
    "    for j in range (0,i-1):\n",
    "        print(\"*\",end='')\n",
    "    print('')"
   ]
  },
  {
   "cell_type": "code",
   "execution_count": 16,
   "metadata": {},
   "outputs": [
    {
     "name": "stdout",
     "output_type": "stream",
     "text": [
      "enter the number:5\n",
      "#####\n",
      "#####\n",
      "#####\n",
      "#####\n",
      "#####\n"
     ]
    }
   ],
   "source": [
    "#10.5.\n",
    "n=int(input(\"enter the number:\"))\n",
    "for i in range(n):\n",
    "    for j in range(n):\n",
    "        print('#',end='')\n",
    "    print()"
   ]
  },
  {
   "cell_type": "code",
   "execution_count": 17,
   "metadata": {},
   "outputs": [
    {
     "name": "stdout",
     "output_type": "stream",
     "text": [
      "Enter the number:9\n",
      "11106\n"
     ]
    }
   ],
   "source": [
    "#QUESTION 11\n",
    "a = int(input(\"Enter the number:\"))\n",
    "n1 = int( \"%s\" % a )\n",
    "n2 = int( \"%s%s\" % (a,a) )\n",
    "n3 = int( \"%s%s%s\" % (a,a,a) )\n",
    "n4 = int( \"%s%s%s%s\" % (a,a,a,a) )\n",
    "print(n1+n2+n3+n4)"
   ]
  },
  {
   "cell_type": "code",
   "execution_count": 18,
   "metadata": {},
   "outputs": [
    {
     "name": "stdout",
     "output_type": "stream",
     "text": [
      "enter the string:SURABHI\n",
      "length of the string:7\n"
     ]
    }
   ],
   "source": [
    "#QUESTION 12\n",
    "input_str= str(input(\"enter the string:\"))\n",
    "count=0\n",
    "for i in input_str:\n",
    "    count=count+1\n",
    "print(\"length of the string:\",end='')\n",
    "print(count)"
   ]
  },
  {
   "cell_type": "code",
   "execution_count": 19,
   "metadata": {},
   "outputs": [
    {
     "name": "stdout",
     "output_type": "stream",
     "text": [
      "enter the sentence:I M HAPPY\n",
      "digit: 0\n",
      "letter: 7\n"
     ]
    }
   ],
   "source": [
    "#QUESTION 13 \n",
    "str = input(\"enter the sentence:\")\n",
    "letter=digit=0\n",
    "for ch in str:\n",
    "    if ch.isdigit():\n",
    "        digit=digit+1\n",
    "    elif ch.isalpha():\n",
    "        letter=letter+1\n",
    "    else:\n",
    "        pass\n",
    "print(\"digit:\",digit)\n",
    "print(\"letter:\",letter)"
   ]
  },
  {
   "cell_type": "code",
   "execution_count": 20,
   "metadata": {},
   "outputs": [
    {
     "name": "stdout",
     "output_type": "stream",
     "text": [
      " Enter your Own String : surabhi\n",
      "\n",
      "Original String in Lowercase  =   surabhi\n",
      "The Given String in Uppercase =   SURABHI\n"
     ]
    }
   ],
   "source": [
    "#QUESTION 14\n",
    "string = input(\" Enter your Own String : \")\n",
    "string1 = ''\n",
    "\n",
    "for i in range(len(string)):\n",
    "    if(string[i] >= 'a' and string[i] <= 'z'):\n",
    "        string1 = string1 + chr((ord(string[i]) - 32))\n",
    "    else:\n",
    "        string1 = string1 + string[i]\n",
    "print(\"\\nOriginal String in Lowercase  =  \", string)\n",
    "print(\"The Given String in Uppercase =  \", string1)"
   ]
  },
  {
   "cell_type": "code",
   "execution_count": 21,
   "metadata": {},
   "outputs": [
    {
     "name": "stdout",
     "output_type": "stream",
     "text": [
      "enter the sentence:i am surabhi\n",
      "Upper: 0\n",
      "Lower: 10\n"
     ]
    }
   ],
   "source": [
    "#QUESTION 15\n",
    "s=input(\"enter the sentence:\")\n",
    "upper=lower=0\n",
    "for ch in s:\n",
    "    if ch.isupper():\n",
    "        upper=upper+1\n",
    "    elif ch.islower():\n",
    "        lower=lower+1\n",
    "    else:\n",
    "        pass\n",
    "print(\"Upper:\", upper)\n",
    "print(\"Lower:\", lower)"
   ]
  },
  {
   "cell_type": "code",
   "execution_count": 23,
   "metadata": {},
   "outputs": [
    {
     "name": "stdout",
     "output_type": "stream",
     "text": [
      "Enter the string:surabhi\n",
      "Entr the character:r\n",
      "1\n"
     ]
    }
   ],
   "source": [
    "#question 16\n",
    "str= input(\"Enter the string:\")\n",
    "c= input(\"Entr the character:\")\n",
    "res=0\n",
    "for i in range(len(str)) :\n",
    "    if(str[i]==c):\n",
    "        res+=1\n",
    "print(res)"
   ]
  },
  {
   "cell_type": "code",
   "execution_count": 24,
   "metadata": {},
   "outputs": [
    {
     "name": "stdout",
     "output_type": "stream",
     "text": [
      "Enter the string:refer\n",
      "is a palindrome\n"
     ]
    }
   ],
   "source": [
    "#question 17\n",
    "s= input(\"Enter the string:\")\n",
    "if s == s[::-1]:\n",
    "    print(\"is a palindrome\")\n",
    "else:\n",
    "    print(\"is not a palindrome\")"
   ]
  },
  {
   "cell_type": "code",
   "execution_count": 26,
   "metadata": {},
   "outputs": [
    {
     "name": "stdout",
     "output_type": "stream",
     "text": [
      "Enter string:surabhikumari\n",
      "Enter word:kum\n",
      "Substring in string!\n"
     ]
    }
   ],
   "source": [
    "#QUESTION 18\n",
    "string=input(\"Enter string:\")\n",
    "sub_str=input(\"Enter word:\")\n",
    "if(string.find(sub_str)==-1):\n",
    "      print(\"Substring not found in string!\")\n",
    "else:\n",
    "      print(\"Substring in string!\")"
   ]
  },
  {
   "cell_type": "code",
   "execution_count": 29,
   "metadata": {},
   "outputs": [
    {
     "name": "stdout",
     "output_type": "stream",
     "text": [
      "Enter a password: Surabhi@1234\n",
      "Your password seems fine\n"
     ]
    }
   ],
   "source": [
    "#QUESTION 19\n",
    "import re\n",
    "password = input(\"Enter a password: \")\n",
    "if len(password) < 8:\n",
    "    print(\"Make sure your password is at lest 8 letters\")\n",
    "elif re.search('[0-9]',password) is None:\n",
    "    print(\"Make sure your password has a number in it\")\n",
    "elif re.search('[a-z]',password) is None: \n",
    "    print(\"Make sure your password has a capital letter in it\")\n",
    "else:\n",
    "    print(\"Your password seems fine\")"
   ]
  },
  {
   "cell_type": "code",
   "execution_count": 31,
   "metadata": {},
   "outputs": [
    {
     "name": "stdout",
     "output_type": "stream",
     "text": [
      "Type a sentence: surabhikumari\n",
      "uaiuai\n"
     ]
    }
   ],
   "source": [
    "vowels = ['a', 'e', 'i', 'o', 'u']\n",
    "characters_input = input('Type a sentence: ')\n",
    "input_list = list(characters_input)\n",
    "vowels_list = []\n",
    "for x in input_list:\n",
    "    if x.lower() in vowels:\n",
    "        vowels_list.append(x)\n",
    "vowels_string = ''.join(vowels_list)\n",
    "print(vowels_string)"
   ]
  },
  {
   "cell_type": "code",
   "execution_count": null,
   "metadata": {},
   "outputs": [],
   "source": []
  }
 ],
 "metadata": {
  "kernelspec": {
   "display_name": "Python 3",
   "language": "python",
   "name": "python3"
  },
  "language_info": {
   "codemirror_mode": {
    "name": "ipython",
    "version": 3
   },
   "file_extension": ".py",
   "mimetype": "text/x-python",
   "name": "python",
   "nbconvert_exporter": "python",
   "pygments_lexer": "ipython3",
   "version": "3.8.5"
  }
 },
 "nbformat": 4,
 "nbformat_minor": 4
}
